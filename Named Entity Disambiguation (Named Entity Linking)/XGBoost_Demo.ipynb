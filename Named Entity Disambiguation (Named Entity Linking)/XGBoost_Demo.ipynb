{
 "cells": [
  {
   "cell_type": "markdown",
   "metadata": {},
   "source": [
    "## XGBoost Demo for Ranking\n",
    "\n",
    "This notebook demonstrates using XGBoost as a Ranking classifier. You are allowed to use and/or modify this code for the Project (Part-2)."
   ]
  },
  {
   "cell_type": "code",
   "execution_count": 1,
   "metadata": {},
   "outputs": [],
   "source": [
    "import numpy as np\n",
    "import xgboost as xgb"
   ]
  },
  {
   "cell_type": "code",
   "execution_count": 2,
   "metadata": {},
   "outputs": [
    {
     "data": {
      "text/plain": [
       "'0.90'"
      ]
     },
     "execution_count": 2,
     "metadata": {},
     "output_type": "execute_result"
    }
   ],
   "source": [
    "xgb.__version__"
   ]
  },
  {
   "cell_type": "markdown",
   "metadata": {},
   "source": [
    "### Generate Random Features and labels for Training Data\n",
    "\n",
    "At first, we generate some random features to train the XGBoost Classifier. For the project, you will be required to use the data provided (explained in `6714_proj_part2.ipynb`) to generate your features.\n",
    "\n",
    "For this example, we assume:<br>\n",
    "\n",
    "* We have 5 mentions in the training data, with total number of candidate entities for each mention as follows: [5, 4, 4, 3, 4].\n",
    "\n",
    "* We form pairs of the form: $(mention,candidate\\_entity)$, so we will have 20 pairs (for 5 mentions) in total $\\sim \\; \\sum_{i=1}^{N}{\\#c_{m_i}}$, where $\\#c_{m_i}$ corresponds to the number of candidates of the mention $m_{i}$. We consider the candidate entities corresponding to each mention as a seperate group.\n",
    "\n",
    "* For each <mention, entity> pair, we may generate some features using men_docs ($men\\_docs.pickle$) and entity description pages ($parsed\\_candidate\\_entities.pickle$). For illustration, we randomly generate some features (d-dimensional). For 20 <mention, entity> pairs, we will have a fearure matrix of the shape $(20 \\times d)$."
   ]
  },
  {
   "cell_type": "code",
   "execution_count": 3,
   "metadata": {
    "scrolled": false
   },
   "outputs": [
    {
     "data": {
      "text/plain": [
       "array([[5.17297884e-01, 9.46962604e-01, 7.65459759e-01, 2.82395844e-01,\n",
       "        2.21045363e-01, 6.86222085e-01, 1.67139203e-01, 3.92442466e-01,\n",
       "        6.18052347e-01, 4.11930095e-01, 2.46488120e-03, 8.84032182e-01,\n",
       "        8.84947538e-01],\n",
       "       [3.00409689e-01, 5.89581865e-01, 9.78426916e-01, 8.45093822e-01,\n",
       "        6.50754391e-02, 2.94744465e-01, 2.87934441e-01, 8.22466339e-01,\n",
       "        6.26183038e-01, 1.10477714e-01, 5.28811169e-04, 9.42166233e-01,\n",
       "        1.41500758e-01],\n",
       "       [4.21596526e-01, 3.46489440e-01, 8.69785084e-01, 4.28601812e-01,\n",
       "        8.28751484e-01, 7.17851838e-01, 1.19226694e-01, 5.96384173e-01,\n",
       "        1.29756298e-01, 7.75340917e-02, 8.31205256e-01, 4.64385615e-01,\n",
       "        1.62012479e-01],\n",
       "       [5.47975292e-01, 5.88485822e-01, 7.73613169e-01, 6.55845458e-01,\n",
       "        5.57706759e-01, 1.78247267e-01, 2.40583531e-01, 5.06054632e-01,\n",
       "        3.96745699e-01, 4.83055185e-01, 9.55739841e-01, 9.01602193e-01,\n",
       "        5.05759322e-01],\n",
       "       [8.20701485e-01, 8.27715926e-01, 2.31833348e-01, 7.90554864e-02,\n",
       "        4.65762926e-01, 8.78975808e-01, 1.47503059e-01, 2.31251305e-01,\n",
       "        9.17945806e-01, 1.29063528e-01, 9.16407722e-01, 2.34797551e-01,\n",
       "        6.15986769e-01],\n",
       "       [9.51587760e-01, 2.55130820e-01, 4.50255148e-01, 9.72517780e-01,\n",
       "        2.39370998e-01, 1.98681303e-01, 6.87946377e-01, 8.45009195e-01,\n",
       "        4.53316182e-01, 1.01370028e-01, 6.22847971e-01, 8.34759369e-02,\n",
       "        5.32670946e-02],\n",
       "       [3.45478478e-01, 9.05475225e-01, 7.98600207e-01, 3.84226943e-01,\n",
       "        9.27260045e-02, 1.26725010e-01, 5.34397281e-01, 5.07304197e-01,\n",
       "        5.03534774e-01, 1.26606776e-01, 7.91290591e-01, 5.96051254e-01,\n",
       "        7.57769373e-01],\n",
       "       [4.59364092e-01, 7.44592049e-02, 6.02487843e-01, 4.35599170e-01,\n",
       "        6.42829953e-03, 4.66298784e-02, 4.18742400e-01, 8.78265855e-01,\n",
       "        4.33017693e-01, 6.43460210e-01, 5.68349775e-01, 2.40181902e-01,\n",
       "        2.95706803e-01],\n",
       "       [5.02492373e-03, 1.28893549e-01, 5.29155020e-01, 6.47494988e-01,\n",
       "        1.45361954e-01, 6.91389260e-01, 6.05565195e-01, 9.63544780e-01,\n",
       "        8.42854551e-01, 5.18314445e-01, 6.03475207e-01, 8.54957627e-02,\n",
       "        9.54554431e-01],\n",
       "       [8.95100955e-01, 5.58347176e-01, 2.82016382e-01, 6.39389879e-01,\n",
       "        4.17028107e-01, 6.27232500e-01, 3.96430644e-01, 3.01813164e-01,\n",
       "        3.97944632e-01, 8.49784528e-01, 8.38738703e-01, 2.85380336e-01,\n",
       "        3.38858277e-01],\n",
       "       [4.83891971e-01, 3.84491355e-01, 3.28787350e-01, 5.29003182e-01,\n",
       "        9.68849643e-02, 2.33799306e-02, 1.90038651e-01, 9.62342645e-01,\n",
       "        7.60956146e-01, 5.21390446e-01, 1.22347230e-01, 9.98586681e-01,\n",
       "        8.88262152e-01],\n",
       "       [9.59644810e-01, 5.64785449e-01, 2.98232904e-01, 1.85192917e-01,\n",
       "        7.80852785e-01, 1.55214746e-01, 6.01118950e-01, 7.38040024e-01,\n",
       "        5.66314099e-01, 7.94379306e-01, 9.27260017e-01, 8.08622203e-02,\n",
       "        1.16517822e-01],\n",
       "       [1.13801236e-01, 2.87932951e-01, 5.51402404e-01, 4.44643585e-01,\n",
       "        4.49496983e-01, 6.88654958e-01, 1.48848025e-01, 1.19652522e-01,\n",
       "        1.40653479e-01, 8.44617484e-01, 3.71533777e-01, 6.11333680e-01,\n",
       "        9.10707827e-01],\n",
       "       [1.83049322e-01, 5.01190297e-02, 2.63554386e-01, 3.80307363e-01,\n",
       "        5.35888540e-01, 2.05932674e-01, 7.57714947e-01, 6.17241494e-01,\n",
       "        7.78912082e-01, 1.94257663e-01, 2.45984209e-01, 6.40563512e-01,\n",
       "        4.00107360e-01],\n",
       "       [9.62721470e-01, 7.63667993e-01, 1.70791317e-01, 1.19176306e-01,\n",
       "        3.30269653e-01, 7.98621944e-01, 6.05087006e-01, 2.17494154e-01,\n",
       "        2.87739969e-02, 5.12813561e-01, 9.39538858e-01, 5.76548696e-01,\n",
       "        9.53241083e-01],\n",
       "       [4.80686727e-01, 9.90790896e-01, 4.93248300e-01, 8.27867216e-01,\n",
       "        2.76282447e-01, 6.78193048e-02, 7.21360101e-01, 1.21608633e-01,\n",
       "        8.09566357e-01, 9.34792223e-01, 3.42465179e-01, 3.12634880e-01,\n",
       "        6.00297106e-01],\n",
       "       [6.94541357e-01, 4.51711628e-02, 6.26735676e-01, 1.75496721e-01,\n",
       "        8.09660528e-02, 3.13701031e-01, 4.14123669e-01, 3.94791861e-01,\n",
       "        7.23040529e-01, 5.11624740e-01, 3.43645628e-01, 4.68908280e-01,\n",
       "        5.46738768e-01],\n",
       "       [8.34874724e-01, 3.48091900e-01, 7.83186063e-01, 6.51011425e-01,\n",
       "        8.73025760e-01, 4.10650963e-01, 1.84159322e-01, 9.31783128e-02,\n",
       "        5.57359149e-01, 9.76831685e-01, 2.95722147e-01, 3.93159093e-01,\n",
       "        8.18798886e-01],\n",
       "       [3.94011599e-01, 8.90825119e-01, 3.01257616e-02, 8.99811745e-01,\n",
       "        2.91105617e-01, 9.80711847e-01, 7.72604420e-01, 8.12443496e-01,\n",
       "        4.74721163e-01, 3.02487116e-01, 3.24123547e-01, 8.86463580e-01,\n",
       "        4.29542264e-01],\n",
       "       [3.07863798e-03, 6.18996736e-01, 6.38414614e-01, 6.02133816e-01,\n",
       "        8.48976634e-02, 1.88789633e-01, 7.73085662e-01, 5.90303995e-01,\n",
       "        6.86036191e-01, 7.30911141e-02, 5.61467535e-01, 2.58629515e-01,\n",
       "        2.21183583e-01]])"
      ]
     },
     "execution_count": 3,
     "metadata": {},
     "output_type": "execute_result"
    }
   ],
   "source": [
    "## Randomly Generate Features for Training....\n",
    "\n",
    "### Set Numpy Seed\n",
    "np.random.seed(23)\n",
    "\n",
    "### We generate random features (13-dim). The feature matrix will be of the shape: (20,13)\n",
    "train_data = np.random.rand(20, 13)\n",
    "train_data.shape\n",
    "train_data"
   ]
  },
  {
   "cell_type": "markdown",
   "metadata": {},
   "source": [
    "### Labels for the Training data\n",
    "\n",
    "* Next, we assign labels to each <mention,entity> pair in the training data, such that:\n",
    "> * The Ground Truth entity Label is assigned a label (1) and is positioned at the start of the group (although, strictly speaking you may place the Ground Truth label at any position within the group, we do so in order to facilitate explanation). <br>\n",
    "> * The rest of the <mention, entity> pairs are assigned a label (0).\n",
    "\n",
    "**Note:** The features generated from each <mention, entity> pair should also follow the same order as that of the labels in each group."
   ]
  },
  {
   "cell_type": "code",
   "execution_count": 4,
   "metadata": {},
   "outputs": [],
   "source": [
    "## Labels for training data...\n",
    "train_labels = np.array([1, 0, 0, 0, 0, 1, 0, 0, 0, 1, 0, 0, 0, 1, 0, 0, 1, 0, 0, 0])"
   ]
  },
  {
   "cell_type": "markdown",
   "metadata": {},
   "source": [
    "### Groups:\n",
    "\n",
    "Here, we form groups for the training data, i.e., represent total number of candidate entities corresponding to each mention in the training data. [5, 4, 4, 3, 4] means that the first mention contains 5 candidate entities, second mention contains 4 candidate entities and so on..."
   ]
  },
  {
   "cell_type": "code",
   "execution_count": 5,
   "metadata": {},
   "outputs": [
    {
     "name": "stdout",
     "output_type": "stream",
     "text": [
      "[5 4 4 3 4]\n"
     ]
    }
   ],
   "source": [
    "## Form Groups...\n",
    "\n",
    "idxs = np.where(train_labels == 1)[0]\n",
    "train_groups = np.append(np.delete(idxs, 0), len(train_labels)) - idxs\n",
    "print(train_groups)"
   ]
  },
  {
   "cell_type": "markdown",
   "metadata": {},
   "source": [
    "### Transform Data for XGBoost...\n",
    "\n",
    "For model training, $XGBoost$ expects a `DMatrix`. Here, we transform our training data to XGboost's `DMatrix` form. For illustration, you may check-out the documentation of the $XGBoost$ classifier: https://xgboost.readthedocs.io/en/latest/python/python_api.html"
   ]
  },
  {
   "cell_type": "code",
   "execution_count": 6,
   "metadata": {},
   "outputs": [],
   "source": [
    "def transform_data(features, groups, labels=None):\n",
    "    xgb_data = xgb.DMatrix(data=features, label=labels)\n",
    "    xgb_data.set_group(groups)\n",
    "    return xgb_data\n",
    "\n",
    "\n",
    "xgboost_train = transform_data(train_data, train_groups, train_labels)"
   ]
  },
  {
   "cell_type": "markdown",
   "metadata": {},
   "source": [
    "### Generate Features for the Test data\n",
    "\n",
    "We follow the same steps, as described previously, to randomly generate some features for testing."
   ]
  },
  {
   "cell_type": "code",
   "execution_count": 7,
   "metadata": {},
   "outputs": [],
   "source": [
    "## Randomly Generate Features for Testing....\n",
    "\n",
    "## Set Numpy Random seed...\n",
    "np.random.seed(53)\n",
    "\n",
    "## Generate features of same dimensionality as that of training features...\n",
    "test_data = np.random.rand(10, 13)\n",
    "\n",
    "## Assign Groups, assuming there are 3 mentions, with 3, 3 and 4 candidate entities...\n",
    "test_groups = np.array([3, 3, 4])\n",
    "\n",
    "# Transform the features to XGBoost DMatrix...\n",
    "xgboost_test = transform_data(test_data, test_groups)"
   ]
  },
  {
   "cell_type": "markdown",
   "metadata": {},
   "source": [
    "### Model Training + Prediction\n",
    "\n",
    "After feature generation, and data transformation, the next step is to set hyper-parameters of the $XGBoost$ classifier and and train our model. Once the model is trained, we use it to generate predictions for the testing data.\n",
    "\n",
    "**Note:** We use `rank:pairwise` as the objective function of our model."
   ]
  },
  {
   "cell_type": "code",
   "execution_count": 8,
   "metadata": {
    "scrolled": true
   },
   "outputs": [
    {
     "data": {
      "text/plain": [
       "array([ 1.9814533 ,  1.4072076 , -0.5223563 ,  2.2223825 ,  0.3374607 ,\n",
       "       -1.1113675 , -1.0744805 ,  2.9586015 ,  2.495078  , -0.91634274],\n",
       "      dtype=float32)"
      ]
     },
     "execution_count": 8,
     "metadata": {},
     "output_type": "execute_result"
    }
   ],
   "source": [
    "## Parameters for XGBoost, you can fine-tune these parameters according to your settings...\n",
    "\n",
    "param = {'max_depth': 8, 'eta': 0.05, 'silent': 1, 'objective': 'rank:pairwise',\n",
    "         'min_child_weight': 0.01, 'lambda':100}\n",
    "\n",
    "## Train the classifier...\n",
    "classifier = xgb.train(param, xgboost_train, num_boost_round=4900)\n",
    "##  Predict test data...\n",
    "preds = classifier.predict(xgboost_test)\n",
    "preds"
   ]
  },
  {
   "cell_type": "markdown",
   "metadata": {},
   "source": [
    "### Prediction scores of Each Testing Group...\n",
    "\n",
    "We can separetely consider the prediction score of each group to get the final entity corresponding to each mention. Based on the prediction scores for each group, you may select the best candidate entity for the testing mention."
   ]
  },
  {
   "cell_type": "code",
   "execution_count": 9,
   "metadata": {},
   "outputs": [
    {
     "name": "stdout",
     "output_type": "stream",
     "text": [
      "Prediction scores for Group 0 = [ 1.9814533  1.4072076 -0.5223563]\n",
      "Prediction scores for Group 1 = [ 2.2223825  0.3374607 -1.1113675]\n",
      "Prediction scores for Group 2 = [-1.0744805   2.9586015   2.495078   -0.91634274]\n"
     ]
    }
   ],
   "source": [
    "idx = 0\n",
    "\n",
    "for iter_, group in enumerate(test_groups):\n",
    "    print(\"Prediction scores for Group {} = {}\".format(iter_,preds[idx:idx+group]))\n",
    "    idx+=group"
   ]
  },
  {
   "cell_type": "code",
   "execution_count": 11,
   "metadata": {},
   "outputs": [
    {
     "name": "stdout",
     "output_type": "stream",
     "text": [
      "0 3\n",
      "1 3\n",
      "2 4\n"
     ]
    }
   ],
   "source": [
    "for a, b in enumerate(test_groups):\n",
    "    print(a, b)"
   ]
  },
  {
   "cell_type": "code",
   "execution_count": null,
   "metadata": {},
   "outputs": [],
   "source": []
  }
 ],
 "metadata": {
  "kernelspec": {
   "display_name": "Python 3",
   "language": "python",
   "name": "python3"
  },
  "language_info": {
   "codemirror_mode": {
    "name": "ipython",
    "version": 3
   },
   "file_extension": ".py",
   "mimetype": "text/x-python",
   "name": "python",
   "nbconvert_exporter": "python",
   "pygments_lexer": "ipython3",
   "version": "3.7.4"
  },
  "nteract": {
   "version": "0.12.3"
  }
 },
 "nbformat": 4,
 "nbformat_minor": 2
}
